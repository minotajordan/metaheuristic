{
  "nbformat": 4,
  "nbformat_minor": 0,
  "metadata": {
    "colab": {
      "provenance": [],
      "toc_visible": true,
      "include_colab_link": true
    },
    "kernelspec": {
      "name": "python3",
      "display_name": "Python 3"
    },
    "language_info": {
      "name": "python"
    }
  },
  "cells": [
    {
      "cell_type": "markdown",
      "metadata": {
        "id": "view-in-github",
        "colab_type": "text"
      },
      "source": [
        "<a href=\"https://colab.research.google.com/github/minotajordan/metaheuristic/blob/main/Hill_climbing_nD.ipynb\" target=\"_parent\"><img src=\"https://colab.research.google.com/assets/colab-badge.svg\" alt=\"Open In Colab\"/></a>"
      ]
    },
    {
      "cell_type": "code",
      "execution_count": null,
      "metadata": {
        "id": "_7KqopxVSD3V"
      },
      "outputs": [],
      "source": [
        "import numpy as np\n",
        "import matplotlib.pyplot as plt\n",
        "from mpl_toolkits.mplot3d import Axes3D\n",
        "\n",
        "# Define the function to be minimized (sphere function)\n",
        "def sphere(pos):\n",
        "  return (pos * pos).sum()"
      ]
    },
    {
      "cell_type": "code",
      "source": [
        "# Define the hill_climbing algorithm\n",
        "def hill_climbing(start_pos, learning_rate, num_iterations):\n",
        "    # Initialize the parameters\n",
        "    d = len (start_pos)\n",
        "    pos = start_pos\n",
        "    fpos = sphere(pos)\n",
        "    history = []\n",
        "    history.append((pos, fpos))\n",
        "\n",
        "    # Perform the hill_climbing iterations\n",
        "    for i in range(num_iterations):\n",
        "        # Update the parameters\n",
        "        rnd = np.random.uniform(low=-learning_rate, high=learning_rate, size=(d,))\n",
        "        pos2 = pos + rnd\n",
        "        fpos2 = sphere(pos2)\n",
        "\n",
        "        if fpos2 < fpos:\n",
        "          pos = pos2\n",
        "          fpos = fpos2\n",
        "\n",
        "        # Save the history of the parameters\n",
        "        history.append((pos, fpos))\n",
        "\n",
        "    return pos, fpos, history"
      ],
      "metadata": {
        "id": "NircBfcpbxm3"
      },
      "execution_count": null,
      "outputs": []
    },
    {
      "cell_type": "code",
      "source": [
        "# Perform hill climbing\n",
        "d=10\n",
        "learning_rate = 0.2\n",
        "num_iterations = 20\n",
        "\n",
        "np.random.seed (5)\n",
        "start_pos = np.random.uniform(low=-10, high=10, size=(d,))\n",
        "\n",
        "best_pos, f_best, history = hill_climbing(start_pos, learning_rate, num_iterations)\n",
        "\n",
        "# List the history points\n",
        "for point in history:\n",
        "  print(point)"
      ],
      "metadata": {
        "colab": {
          "base_uri": "https://localhost:8080/"
        },
        "id": "T73ccl51b0oG",
        "outputId": "8f641fd2-ea27-402e-f608-1fd2f3847168"
      },
      "execution_count": null,
      "outputs": [
        {
          "output_type": "stream",
          "name": "stdout",
          "text": [
            "(array([-5.56013658,  7.41464612, -5.86561689,  8.37221816, -0.23177622,\n",
            "        2.23487726,  5.31815713,  0.36835976, -4.06398997, -6.24557543]), 279.38170195963085)\n",
            "(array([-5.72784007,  7.51002224, -5.8890932 ,  8.23554211, -0.07980141,\n",
            "        2.14451184,  5.28385114,  0.28679173, -4.0124748 , -6.2136403 ]), 279.03007001250296)\n",
            "(array([-5.68786839,  7.41634989, -5.97521885,  8.13697739, -0.14877583,\n",
            "        2.00217756,  5.15009628,  0.47236394, -3.82838412, -6.33827444]), 274.87545035531116)\n",
            "(array([-5.87814577,  7.29817211, -5.89528141,  8.24878322, -0.3396026 ,\n",
            "        2.03324271,  4.95075315,  0.47855299, -3.77246605, -6.14402468]), 271.5815961759703)\n",
            "(array([-5.87814577,  7.29817211, -5.89528141,  8.24878322, -0.3396026 ,\n",
            "        2.03324271,  4.95075315,  0.47855299, -3.77246605, -6.14402468]), 271.5815961759703)\n",
            "(array([-5.76980413,  7.29214454, -6.08363678,  8.0833935 , -0.49502107,\n",
            "        1.93374075,  5.13671927,  0.53125941, -3.64580197, -6.11759188]), 270.1872215571193)\n",
            "(array([-5.71566165,  7.41690549, -5.91296373,  8.2484442 , -0.36509678,\n",
            "        1.77142184,  5.08113864,  0.34546302, -3.62725863, -5.99913479]), 269.0344160600914)\n",
            "(array([-5.89520453,  7.29237259, -5.96677263,  8.14616055, -0.24706179,\n",
            "        1.71225982,  5.13668971,  0.34282904, -3.59385873, -5.82341505]), 266.21841126327934)\n",
            "(array([-5.7177885 ,  7.13704956, -5.82935064,  8.08457181, -0.40673088,\n",
            "        1.66562344,  5.14083163,  0.52727027, -3.64525368, -6.01846729]), 262.12793009637926)\n",
            "(array([-5.57390574,  6.98149386, -5.83801502,  8.22456382, -0.4008357 ,\n",
            "        1.64426658,  5.2610222 ,  0.33542683, -3.61620622, -6.05391384]), 261.9175189965627)\n",
            "(array([-5.37985102,  7.10205447, -6.01643018,  8.10075493, -0.41986816,\n",
            "        1.72544341,  5.19384146,  0.2794201 , -3.447618  , -5.87246164]), 257.78102179577616)\n",
            "(array([-5.37985102,  7.10205447, -6.01643018,  8.10075493, -0.41986816,\n",
            "        1.72544341,  5.19384146,  0.2794201 , -3.447618  , -5.87246164]), 257.78102179577616)\n",
            "(array([-5.2958314 ,  7.1826756 , -5.90949763,  8.29049472, -0.47038235,\n",
            "        1.55866518,  5.08969763,  0.16801321, -3.50217808, -5.74833595]), 257.18368867890433)\n",
            "(array([-5.47179294,  7.16257303, -5.78422942,  8.19619007, -0.64502196,\n",
            "        1.45550825,  4.92372582,  0.29112418, -3.63407805, -5.8701981 ]), 256.40594775808194)\n",
            "(array([-5.47179294,  7.16257303, -5.78422942,  8.19619007, -0.64502196,\n",
            "        1.45550825,  4.92372582,  0.29112418, -3.63407805, -5.8701981 ]), 256.40594775808194)\n",
            "(array([-5.27719236,  7.00556884, -5.75186201,  8.18532134, -0.58411364,\n",
            "        1.35225187,  4.73617784,  0.30881712, -3.68819398, -5.71326479]), 247.95084768194212)\n",
            "(array([-5.29345412,  6.97303048, -5.69869979,  8.19619287, -0.39962919,\n",
            "        1.46785592,  4.73485604,  0.19327352, -3.64660032, -5.61383446]), 245.8799196610346)\n",
            "(array([-5.29345412,  6.97303048, -5.69869979,  8.19619287, -0.39962919,\n",
            "        1.46785592,  4.73485604,  0.19327352, -3.64660032, -5.61383446]), 245.8799196610346)\n",
            "(array([-5.29345412,  6.97303048, -5.69869979,  8.19619287, -0.39962919,\n",
            "        1.46785592,  4.73485604,  0.19327352, -3.64660032, -5.61383446]), 245.8799196610346)\n",
            "(array([-5.29345412,  6.97303048, -5.69869979,  8.19619287, -0.39962919,\n",
            "        1.46785592,  4.73485604,  0.19327352, -3.64660032, -5.61383446]), 245.8799196610346)\n",
            "(array([-5.35436245,  6.77816971, -5.83244306,  8.02033944, -0.48836682,\n",
            "        1.40718872,  4.77134497,  0.30327878, -3.59669853, -5.74996209]), 244.03071617133457)\n"
          ]
        }
      ]
    },
    {
      "cell_type": "code",
      "source": [],
      "metadata": {
        "id": "XIz8nmM6kG9N"
      },
      "execution_count": null,
      "outputs": []
    },
    {
      "cell_type": "code",
      "source": [],
      "metadata": {
        "id": "MTDmI7ZGM1bI"
      },
      "execution_count": null,
      "outputs": []
    }
  ]
}